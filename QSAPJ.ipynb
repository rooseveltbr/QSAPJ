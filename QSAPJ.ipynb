{
 "cells": [
  {
   "cell_type": "markdown",
   "metadata": {},
   "source": [
    "# QSAPJ"
   ]
  },
  {
   "cell_type": "markdown",
   "metadata": {},
   "source": [
    "Código desenvolvido em linguagem Python que trata o arquivo que contém o Quadro de Sócios e Administradores das Pessoas Jurídicas (QSAPJ) disponível no sítio da Receita Federal do Brasil (RFB) e, em seguida, gera um arquivo TXT com os dados separados por ponto e vírgula.\n",
    "\n",
    "Versão: 28.03.2019\n",
    "\n",
    "Autor: Roosevelt Gonçalves Oliveira - https://github.com/rooseveltbr\n",
    "\n",
    "Licenciamento: GNU General Public License v3.0\n",
    "\n",
    "Informações:\n",
    "\n",
    "1) http://receita.economia.gov.br/orientacao/tributaria/cadastros/consultas-cnpj\n",
    "\n",
    "2) http://receita.economia.gov.br/orientacao/tributaria/cadastros/cadastro-nacional-de-pessoas-juridicas-cnpj/dados-abertos-do-cnpj"
   ]
  },
  {
   "cell_type": "code",
   "execution_count": 1,
   "metadata": {},
   "outputs": [
    {
     "name": "stderr",
     "output_type": "stream",
     "text": [
      "/home/roosevelt/anaconda3/lib/python3.6/site-packages/requests/__init__.py:91: RequestsDependencyWarning: urllib3 (1.24.1) or chardet (2.3.0) doesn't match a supported version!\n",
      "  RequestsDependencyWarning)\n"
     ]
    }
   ],
   "source": [
    "import os\n",
    "import requests\n",
    "import string"
   ]
  },
  {
   "cell_type": "code",
   "execution_count": 2,
   "metadata": {
    "collapsed": true
   },
   "outputs": [],
   "source": [
    "class QSAPJ:\n",
    "    \n",
    "    def __init__(self, uf, nome):\n",
    "        url = \"http://receita.economia.gov.br/orientacao/tributaria/cadastros/cadastro-nacional-de-pessoas-juridicas-cnpj/consultas/download/Socios\"\n",
    "        extensao = \".txt\"\n",
    "        self.uri = url + uf.upper() + extensao\n",
    "        self.nomearq = nome + uf.upper() + extensao\n",
    "        self.dados = [[\"TIPO\", \"CNPJ\", \"INDICADOR_CPF_CNPJ\", \"CPF_CNPJ_DO_SOCIO\", \"QUALIFICACAO_DO_SOCIO\", \"NOME_EMPRESARIAL_OU_NOME_DO_SOCIO\"]]\n",
    "    \n",
    "    # Copia o arquivo TXT disponível no sítio da RFB\n",
    "    def CopiarArquivo(self, uri, nomearq):\n",
    "        r = requests.get(uri)\n",
    "        try:\n",
    "            r.raise_for_status()\n",
    "        except Exception as exc:\n",
    "            mensagem = \"Há um problema: %s\" % (exc)\n",
    "            print(mensagem)\n",
    "        \n",
    "        endereco = os.path.join(os.getcwd(), nomearq)\n",
    "        with open(endereco, 'wb') as arquivo:\n",
    "            for chunk in r.iter_content(100000):\n",
    "                arquivo.write(chunk)\n",
    "    \n",
    "    # Copia o conteúdo do arquivo TXT\n",
    "    def CopiarDados(self, nomearq):\n",
    "        endereco = os.path.join(os.getcwd(), nomearq)\n",
    "        with open(endereco, 'rt', encoding='ISO-8859-1') as arquivo:\n",
    "            texto = arquivo.readlines()\n",
    "        \n",
    "        for i in texto:\n",
    "            aux = []\n",
    "            tipo = i[:2]\n",
    "            if tipo == \"01\": # Tipo = 01 - Informação da empresa\n",
    "                aux.append(i[:2])\n",
    "                aux.append(i[2:16])\n",
    "                aux.append('')\n",
    "                aux.append('')\n",
    "                aux.append('')\n",
    "                aux.append(i[16:166].rstrip())\n",
    "                self.dados.append(aux)\n",
    "            elif tipo == \"02\": # Tipo = 02 - Informação do sócio\n",
    "                aux.append(i[:2])\n",
    "                aux.append(i[2:16])\n",
    "                aux.append(i[16:17])\n",
    "                aux.append(i[17:31])\n",
    "                aux.append(i[31:33])\n",
    "                aux.append(i[33:183].rstrip())\n",
    "                self.dados.append(aux)\n",
    "            else:\n",
    "                print(\"Erro: tipo desconhecido.\")\n",
    "    \n",
    "    # Gera um novo arquivo TXT\n",
    "    def GerarArquivo(self, nomearq, dados):\n",
    "        endereco = os.path.join(os.getcwd(), nomearq)\n",
    "        with open(endereco, 'wt') as arquivo:\n",
    "            for i in dados:\n",
    "                arquivo.write(';'.join(i))\n",
    "                arquivo.write('\\n')"
   ]
  }
 ],
 "metadata": {
  "kernelspec": {
   "display_name": "Python 3",
   "language": "python",
   "name": "python3"
  },
  "language_info": {
   "codemirror_mode": {
    "name": "ipython",
    "version": 3
   },
   "file_extension": ".py",
   "mimetype": "text/x-python",
   "name": "python",
   "nbconvert_exporter": "python",
   "pygments_lexer": "ipython3",
   "version": "3.6.3"
  }
 },
 "nbformat": 4,
 "nbformat_minor": 2
}
